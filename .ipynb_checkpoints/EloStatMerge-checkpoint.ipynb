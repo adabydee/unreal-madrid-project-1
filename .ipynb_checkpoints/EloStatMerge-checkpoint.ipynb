{
 "cells": [
  {
   "cell_type": "code",
   "execution_count": 1,
   "metadata": {},
   "outputs": [],
   "source": [
    "import glob, os\n",
    "import pandas as pd\n",
    "import numpy as np\n",
    "from sklearn.linear_model import LinearRegression\n",
    "from sklearn.model_selection import train_test_split\n",
    "from sklearn.metrics import mean_squared_error\n",
    "\n",
    "df = pd.read_csv('example.csv')\n",
    "df1 = pd.read_csv('elo.csv')"
   ]
  },
  {
   "cell_type": "code",
   "execution_count": 2,
   "metadata": {},
   "outputs": [],
   "source": [
    "df['elo_home'] = df1['elo_home']\n",
    "df['elo_away'] = df1['elo_away']\n",
    "df['score_gap'] = df1['score_gap']\n",
    "df['results'] = df1['results']"
   ]
  },
  {
   "cell_type": "code",
   "execution_count": 3,
   "metadata": {},
   "outputs": [],
   "source": [
    "def cal_score(row):\n",
    "    if row['results'] == 1:\n",
    "        return row['score_gap']\n",
    "    else:\n",
    "        return (-1)*row['score_gap']\n",
    "df['score_gap_sign'] = df.apply(cal_score, axis = 1)"
   ]
  },
  {
   "cell_type": "code",
   "execution_count": 4,
   "metadata": {},
   "outputs": [],
   "source": [
    "df['elo_diff'] = df['elo_home'] - df['elo_away']"
   ]
  },
  {
   "cell_type": "code",
   "execution_count": 5,
   "metadata": {},
   "outputs": [
    {
     "data": {
      "text/html": [
       "<div>\n",
       "<style scoped>\n",
       "    .dataframe tbody tr th:only-of-type {\n",
       "        vertical-align: middle;\n",
       "    }\n",
       "\n",
       "    .dataframe tbody tr th {\n",
       "        vertical-align: top;\n",
       "    }\n",
       "\n",
       "    .dataframe thead th {\n",
       "        text-align: right;\n",
       "    }\n",
       "</style>\n",
       "<table border=\"1\" class=\"dataframe\">\n",
       "  <thead>\n",
       "    <tr style=\"text-align: right;\">\n",
       "      <th></th>\n",
       "      <th>Date</th>\n",
       "      <th>Start (ET)</th>\n",
       "      <th>Visitor/Neutral</th>\n",
       "      <th>Visitor-Points</th>\n",
       "      <th>Home/Neutral</th>\n",
       "      <th>Home-Points</th>\n",
       "      <th>Overtime</th>\n",
       "      <th>Attend.</th>\n",
       "      <th>Season</th>\n",
       "      <th>Age_Visitor</th>\n",
       "      <th>...</th>\n",
       "      <th>T_BLK_Home</th>\n",
       "      <th>T_TOV_Home</th>\n",
       "      <th>T_PF_Home</th>\n",
       "      <th>T_PTS_Home</th>\n",
       "      <th>elo_home</th>\n",
       "      <th>elo_away</th>\n",
       "      <th>score_gap</th>\n",
       "      <th>results</th>\n",
       "      <th>score_gap_sign</th>\n",
       "      <th>elo_diff</th>\n",
       "    </tr>\n",
       "  </thead>\n",
       "  <tbody>\n",
       "    <tr>\n",
       "      <th>0</th>\n",
       "      <td>Tue Oct 29 2013</td>\n",
       "      <td>7:00 pm</td>\n",
       "      <td>Orlando Magic</td>\n",
       "      <td>87</td>\n",
       "      <td>Indiana Pacers</td>\n",
       "      <td>97</td>\n",
       "      <td>0</td>\n",
       "      <td>18165</td>\n",
       "      <td>2013/2014</td>\n",
       "      <td>24.6</td>\n",
       "      <td>...</td>\n",
       "      <td>5.4</td>\n",
       "      <td>15.1</td>\n",
       "      <td>20.4</td>\n",
       "      <td>96.7</td>\n",
       "      <td>1509.424989</td>\n",
       "      <td>1490.575011</td>\n",
       "      <td>10</td>\n",
       "      <td>1</td>\n",
       "      <td>10</td>\n",
       "      <td>18.849977</td>\n",
       "    </tr>\n",
       "    <tr>\n",
       "      <th>1</th>\n",
       "      <td>Tue Oct 29 2013</td>\n",
       "      <td>10:30 pm</td>\n",
       "      <td>Los Angeles Clippers</td>\n",
       "      <td>103</td>\n",
       "      <td>Los Angeles Lakers</td>\n",
       "      <td>116</td>\n",
       "      <td>0</td>\n",
       "      <td>18997</td>\n",
       "      <td>2013/2014</td>\n",
       "      <td>28.1</td>\n",
       "      <td>...</td>\n",
       "      <td>5.4</td>\n",
       "      <td>15.1</td>\n",
       "      <td>19.8</td>\n",
       "      <td>103.0</td>\n",
       "      <td>1509.424989</td>\n",
       "      <td>1490.575011</td>\n",
       "      <td>13</td>\n",
       "      <td>1</td>\n",
       "      <td>13</td>\n",
       "      <td>18.849977</td>\n",
       "    </tr>\n",
       "    <tr>\n",
       "      <th>2</th>\n",
       "      <td>Tue Oct 29 2013</td>\n",
       "      <td>8:00 pm</td>\n",
       "      <td>Chicago Bulls</td>\n",
       "      <td>95</td>\n",
       "      <td>Miami Heat</td>\n",
       "      <td>107</td>\n",
       "      <td>0</td>\n",
       "      <td>19964</td>\n",
       "      <td>2013/2014</td>\n",
       "      <td>28.6</td>\n",
       "      <td>...</td>\n",
       "      <td>4.5</td>\n",
       "      <td>14.8</td>\n",
       "      <td>19.5</td>\n",
       "      <td>102.2</td>\n",
       "      <td>1509.424989</td>\n",
       "      <td>1490.575011</td>\n",
       "      <td>12</td>\n",
       "      <td>1</td>\n",
       "      <td>12</td>\n",
       "      <td>18.849977</td>\n",
       "    </tr>\n",
       "    <tr>\n",
       "      <th>3</th>\n",
       "      <td>Wed Oct 30 2013</td>\n",
       "      <td>7:00 pm</td>\n",
       "      <td>Brooklyn Nets</td>\n",
       "      <td>94</td>\n",
       "      <td>Cleveland Cavaliers</td>\n",
       "      <td>98</td>\n",
       "      <td>0</td>\n",
       "      <td>20562</td>\n",
       "      <td>2013/2014</td>\n",
       "      <td>30.0</td>\n",
       "      <td>...</td>\n",
       "      <td>3.7</td>\n",
       "      <td>14.2</td>\n",
       "      <td>20.0</td>\n",
       "      <td>98.2</td>\n",
       "      <td>1509.424989</td>\n",
       "      <td>1490.575011</td>\n",
       "      <td>4</td>\n",
       "      <td>1</td>\n",
       "      <td>4</td>\n",
       "      <td>18.849977</td>\n",
       "    </tr>\n",
       "    <tr>\n",
       "      <th>4</th>\n",
       "      <td>Wed Oct 30 2013</td>\n",
       "      <td>8:30 pm</td>\n",
       "      <td>Atlanta Hawks</td>\n",
       "      <td>109</td>\n",
       "      <td>Dallas Mavericks</td>\n",
       "      <td>118</td>\n",
       "      <td>0</td>\n",
       "      <td>19834</td>\n",
       "      <td>2013/2014</td>\n",
       "      <td>27.5</td>\n",
       "      <td>...</td>\n",
       "      <td>4.3</td>\n",
       "      <td>13.5</td>\n",
       "      <td>20.0</td>\n",
       "      <td>104.8</td>\n",
       "      <td>1509.424989</td>\n",
       "      <td>1490.575011</td>\n",
       "      <td>9</td>\n",
       "      <td>1</td>\n",
       "      <td>9</td>\n",
       "      <td>18.849977</td>\n",
       "    </tr>\n",
       "  </tbody>\n",
       "</table>\n",
       "<p>5 rows × 151 columns</p>\n",
       "</div>"
      ],
      "text/plain": [
       "              Date Start (ET)       Visitor/Neutral  Visitor-Points  \\\n",
       "0  Tue Oct 29 2013    7:00 pm         Orlando Magic              87   \n",
       "1  Tue Oct 29 2013   10:30 pm  Los Angeles Clippers             103   \n",
       "2  Tue Oct 29 2013    8:00 pm         Chicago Bulls              95   \n",
       "3  Wed Oct 30 2013    7:00 pm         Brooklyn Nets              94   \n",
       "4  Wed Oct 30 2013    8:30 pm         Atlanta Hawks             109   \n",
       "\n",
       "          Home/Neutral  Home-Points  Overtime  Attend.     Season  \\\n",
       "0       Indiana Pacers           97         0    18165  2013/2014   \n",
       "1   Los Angeles Lakers          116         0    18997  2013/2014   \n",
       "2           Miami Heat          107         0    19964  2013/2014   \n",
       "3  Cleveland Cavaliers           98         0    20562  2013/2014   \n",
       "4     Dallas Mavericks          118         0    19834  2013/2014   \n",
       "\n",
       "   Age_Visitor    ...      T_BLK_Home  T_TOV_Home  T_PF_Home  T_PTS_Home  \\\n",
       "0         24.6    ...             5.4        15.1       20.4        96.7   \n",
       "1         28.1    ...             5.4        15.1       19.8       103.0   \n",
       "2         28.6    ...             4.5        14.8       19.5       102.2   \n",
       "3         30.0    ...             3.7        14.2       20.0        98.2   \n",
       "4         27.5    ...             4.3        13.5       20.0       104.8   \n",
       "\n",
       "      elo_home     elo_away  score_gap  results  score_gap_sign   elo_diff  \n",
       "0  1509.424989  1490.575011         10        1              10  18.849977  \n",
       "1  1509.424989  1490.575011         13        1              13  18.849977  \n",
       "2  1509.424989  1490.575011         12        1              12  18.849977  \n",
       "3  1509.424989  1490.575011          4        1               4  18.849977  \n",
       "4  1509.424989  1490.575011          9        1               9  18.849977  \n",
       "\n",
       "[5 rows x 151 columns]"
      ]
     },
     "execution_count": 5,
     "metadata": {},
     "output_type": "execute_result"
    }
   ],
   "source": [
    "df.head()"
   ]
  },
  {
   "cell_type": "code",
   "execution_count": 6,
   "metadata": {},
   "outputs": [
    {
     "data": {
      "text/plain": [
       "(6567, 137)"
      ]
     },
     "execution_count": 6,
     "metadata": {},
     "output_type": "execute_result"
    }
   ],
   "source": [
    "df = df.drop(['results', 'score_gap', 'Date', 'Start (ET)', \n",
    "              'Visitor/Neutral', 'Home/Neutral', 'Attend.', 'Season', \n",
    "             'O_G_Visitor', 'O_G_Home', 'T_G_Visitor', 'T_G_Home', \n",
    "             'elo_home', 'elo_away'], 1)\n",
    "df.shape"
   ]
  },
  {
   "cell_type": "code",
   "execution_count": 7,
   "metadata": {},
   "outputs": [],
   "source": [
    "df['new_score_gap_sign'] = df['score_gap_sign']\n",
    "df = df.drop(['score_gap_sign'], 1)\n",
    "df.rename(columns={'new_score_gap_sign': 'score_gap_sign'}, inplace=True)"
   ]
  },
  {
   "cell_type": "code",
   "execution_count": 8,
   "metadata": {},
   "outputs": [],
   "source": [
    "df_clean = df.iloc[600:]\n",
    "df_clean = df_clean.reset_index(drop = True)"
   ]
  },
  {
   "cell_type": "code",
   "execution_count": 9,
   "metadata": {},
   "outputs": [],
   "source": [
    "X = df_clean.drop(['score_gap_sign'], axis = 1)\n",
    "y = df_clean['score_gap_sign']\n",
    "X_train, X_test, y_train, y_test = train_test_split(X, y, test_size = 0.3, random_state = 66)"
   ]
  },
  {
   "cell_type": "code",
   "execution_count": 10,
   "metadata": {},
   "outputs": [
    {
     "data": {
      "text/plain": [
       "LinearRegression(copy_X=True, fit_intercept=True, n_jobs=1, normalize=False)"
      ]
     },
     "execution_count": 10,
     "metadata": {},
     "output_type": "execute_result"
    }
   ],
   "source": [
    "linreg = LinearRegression()\n",
    "linreg.fit(X_train, y_train)"
   ]
  },
  {
   "cell_type": "code",
   "execution_count": 11,
   "metadata": {},
   "outputs": [
    {
     "name": "stdout",
     "output_type": "stream",
     "text": [
      "8.149272846908313e-14\n"
     ]
    }
   ],
   "source": [
    "pred = linreg.predict(X_test)\n",
    "error = np.sqrt(mean_squared_error(y_test, pred))\n",
    "print(error)"
   ]
  },
  {
   "cell_type": "code",
   "execution_count": 12,
   "metadata": {},
   "outputs": [],
   "source": [
    "df_clean.to_csv('final.csv', index=False)"
   ]
  },
  {
   "cell_type": "code",
   "execution_count": 15,
   "metadata": {},
   "outputs": [],
   "source": [
    "out_of_sample = pd.read_csv('Out_of_Sample.csv')\n",
    "out_of_sample = out_of_sample.drop(['Visitor-Points', 'Home-Points'], 1)\n",
    "X = X.drop(['Visitor-Points', 'Home-Points'], 1)"
   ]
  },
  {
   "cell_type": "code",
   "execution_count": 16,
   "metadata": {},
   "outputs": [
    {
     "name": "stdout",
     "output_type": "stream",
     "text": [
      "[ 4.36044822e+00  2.20826252e+01 -4.52961451e+00 -5.32154543e+00\n",
      " -1.38928760e+01  1.80063134e+01 -2.28286409e+00  1.72029863e+00\n",
      " -1.34222999e+01 -9.39860526e+00 -7.04605480e+00  2.63887415e+00\n",
      "  1.90218330e+01  9.85870027e+00 -2.63845811e-01 -1.63678795e+01\n",
      " -3.15572781e+00  2.16473582e+00  9.81621458e+00  7.91847220e+00\n",
      " -7.11302796e+00  1.49088041e+01 -1.53058262e+01  9.48845905e+00\n",
      " -1.09402674e+01 -4.00417204e+00 -2.70366562e+01  3.23456544e+01\n",
      "  1.56187705e+01  8.72574168e-01 -2.71274764e+00 -1.52355008e+01\n",
      "  8.62741204e+00  5.82849792e-01 -3.59768747e+01 -4.11002245e+00\n",
      "  2.46538344e-02  3.68544276e+00  6.20053753e+00  1.35364127e+01\n",
      " -1.53056137e+01  4.26731113e+01 -2.76620060e+00  2.90193222e+01\n",
      " -2.32512773e+01  4.79302236e+00  1.50679452e+01  8.93144045e+00\n",
      "  1.97953582e+01 -1.42181306e+01  6.15731424e+00 -9.18822339e+00\n",
      " -1.17207565e+01 -1.27465161e+01  2.75839345e+01 -1.42367766e+01\n",
      "  7.30957727e+00  1.54420562e+01 -3.00241744e+01  5.93585563e+00\n",
      " -5.75629601e+00  1.13873428e+01 -1.84860580e+00 -3.51873388e+00\n",
      " -2.99956756e+00 -2.12366672e+01  1.10525015e+01 -1.20876323e+01\n",
      " -2.17624379e+01  1.34615981e+01 -2.63372856e+01  4.02212051e+00\n",
      "  3.01288265e+01 -1.75340246e+01 -2.79753540e+01 -1.31651642e+01\n",
      "  1.65506408e+01 -7.49974920e+00  2.57272290e+01  2.77170649e+00\n",
      "  3.22460773e+00  1.15709344e+00 -2.78448740e+01 -3.14513095e+01\n",
      "  9.07566777e+00  1.99541297e+01 -2.81086841e+01  8.21738409e+00\n",
      "  6.31540557e+00  3.19796316e-01  2.83169936e+00 -1.70240191e+01\n",
      " -6.73590608e+00  1.39488304e+01  2.01152597e+01  1.71019896e+01\n",
      "  6.00904914e+00 -4.36655488e+00 -1.38336617e+01  2.56002690e+00\n",
      " -2.33784088e+00 -1.32902191e+01  1.05669192e+01 -4.76175994e+00\n",
      " -2.16034796e+01  1.86683463e+01  1.92313667e+01 -1.93877197e+01\n",
      " -2.20145873e+01 -3.06783323e+01]\n",
      "13.597766036077344\n"
     ]
    }
   ],
   "source": [
    "# out-of-sample prediction\n",
    "X_out = out_of_sample.drop(['score_gap_sign'], axis = 1)\n",
    "y_out = out_of_sample['score_gap_sign']\n",
    "linreg.fit(X,y)\n",
    "pred = linreg.predict(X_out)\n",
    "error = np.sqrt(mean_squared_error(y_out, pred))\n",
    "print(pred)\n",
    "print(error)"
   ]
  }
 ],
 "metadata": {
  "kernelspec": {
   "display_name": "Python 3",
   "language": "python",
   "name": "python3"
  },
  "language_info": {
   "codemirror_mode": {
    "name": "ipython",
    "version": 3
   },
   "file_extension": ".py",
   "mimetype": "text/x-python",
   "name": "python",
   "nbconvert_exporter": "python",
   "pygments_lexer": "ipython3",
   "version": "3.6.5"
  }
 },
 "nbformat": 4,
 "nbformat_minor": 1
}
