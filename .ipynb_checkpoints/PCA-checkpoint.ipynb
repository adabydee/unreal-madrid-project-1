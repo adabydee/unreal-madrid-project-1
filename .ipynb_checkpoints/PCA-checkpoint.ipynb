{
 "cells": [
  {
   "cell_type": "code",
   "execution_count": 1,
   "metadata": {},
   "outputs": [
    {
     "data": {
      "text/html": [
       "<div>\n",
       "<style scoped>\n",
       "    .dataframe tbody tr th:only-of-type {\n",
       "        vertical-align: middle;\n",
       "    }\n",
       "\n",
       "    .dataframe tbody tr th {\n",
       "        vertical-align: top;\n",
       "    }\n",
       "\n",
       "    .dataframe thead th {\n",
       "        text-align: right;\n",
       "    }\n",
       "</style>\n",
       "<table border=\"1\" class=\"dataframe\">\n",
       "  <thead>\n",
       "    <tr style=\"text-align: right;\">\n",
       "      <th></th>\n",
       "      <th>Visitor-Points</th>\n",
       "      <th>Home-Points</th>\n",
       "      <th>Overtime</th>\n",
       "      <th>Age_Visitor</th>\n",
       "      <th>W_Visitor</th>\n",
       "      <th>L_Visitor</th>\n",
       "      <th>PW_Visitor</th>\n",
       "      <th>PL_Visitor</th>\n",
       "      <th>MOV_Visitor</th>\n",
       "      <th>SOS_Visitor</th>\n",
       "      <th>...</th>\n",
       "      <th>T_DRB_Home</th>\n",
       "      <th>T_TRB_Home</th>\n",
       "      <th>T_AST_Home</th>\n",
       "      <th>T_STL_Home</th>\n",
       "      <th>T_BLK_Home</th>\n",
       "      <th>T_TOV_Home</th>\n",
       "      <th>T_PF_Home</th>\n",
       "      <th>T_PTS_Home</th>\n",
       "      <th>elo_diff</th>\n",
       "      <th>score_gap_sign</th>\n",
       "    </tr>\n",
       "  </thead>\n",
       "  <tbody>\n",
       "    <tr>\n",
       "      <th>0</th>\n",
       "      <td>91</td>\n",
       "      <td>93</td>\n",
       "      <td>0</td>\n",
       "      <td>25.4</td>\n",
       "      <td>25</td>\n",
       "      <td>57</td>\n",
       "      <td>28</td>\n",
       "      <td>54</td>\n",
       "      <td>-4.46</td>\n",
       "      <td>-0.51</td>\n",
       "      <td>...</td>\n",
       "      <td>32.4</td>\n",
       "      <td>42.0</td>\n",
       "      <td>21.0</td>\n",
       "      <td>7.7</td>\n",
       "      <td>4.3</td>\n",
       "      <td>14.9</td>\n",
       "      <td>20.5</td>\n",
       "      <td>96.5</td>\n",
       "      <td>-33.249042</td>\n",
       "      <td>2</td>\n",
       "    </tr>\n",
       "    <tr>\n",
       "      <th>1</th>\n",
       "      <td>103</td>\n",
       "      <td>117</td>\n",
       "      <td>0</td>\n",
       "      <td>26.0</td>\n",
       "      <td>36</td>\n",
       "      <td>46</td>\n",
       "      <td>35</td>\n",
       "      <td>47</td>\n",
       "      <td>-2.15</td>\n",
       "      <td>0.75</td>\n",
       "      <td>...</td>\n",
       "      <td>31.7</td>\n",
       "      <td>43.0</td>\n",
       "      <td>19.1</td>\n",
       "      <td>8.4</td>\n",
       "      <td>4.6</td>\n",
       "      <td>15.3</td>\n",
       "      <td>21.9</td>\n",
       "      <td>105.2</td>\n",
       "      <td>34.878124</td>\n",
       "      <td>14</td>\n",
       "    </tr>\n",
       "    <tr>\n",
       "      <th>2</th>\n",
       "      <td>82</td>\n",
       "      <td>110</td>\n",
       "      <td>0</td>\n",
       "      <td>24.7</td>\n",
       "      <td>15</td>\n",
       "      <td>67</td>\n",
       "      <td>20</td>\n",
       "      <td>62</td>\n",
       "      <td>-8.18</td>\n",
       "      <td>-0.23</td>\n",
       "      <td>...</td>\n",
       "      <td>34.0</td>\n",
       "      <td>43.3</td>\n",
       "      <td>25.2</td>\n",
       "      <td>7.4</td>\n",
       "      <td>5.1</td>\n",
       "      <td>14.4</td>\n",
       "      <td>18.2</td>\n",
       "      <td>105.4</td>\n",
       "      <td>303.949571</td>\n",
       "      <td>28</td>\n",
       "    </tr>\n",
       "    <tr>\n",
       "      <th>3</th>\n",
       "      <td>112</td>\n",
       "      <td>106</td>\n",
       "      <td>0</td>\n",
       "      <td>26.8</td>\n",
       "      <td>27</td>\n",
       "      <td>55</td>\n",
       "      <td>25</td>\n",
       "      <td>57</td>\n",
       "      <td>-6.29</td>\n",
       "      <td>0.96</td>\n",
       "      <td>...</td>\n",
       "      <td>31.1</td>\n",
       "      <td>42.5</td>\n",
       "      <td>21.2</td>\n",
       "      <td>7.0</td>\n",
       "      <td>4.2</td>\n",
       "      <td>14.1</td>\n",
       "      <td>23.0</td>\n",
       "      <td>101.3</td>\n",
       "      <td>88.639727</td>\n",
       "      <td>-6</td>\n",
       "    </tr>\n",
       "    <tr>\n",
       "      <th>4</th>\n",
       "      <td>114</td>\n",
       "      <td>121</td>\n",
       "      <td>0</td>\n",
       "      <td>30.6</td>\n",
       "      <td>54</td>\n",
       "      <td>28</td>\n",
       "      <td>54</td>\n",
       "      <td>28</td>\n",
       "      <td>4.76</td>\n",
       "      <td>-0.61</td>\n",
       "      <td>...</td>\n",
       "      <td>31.3</td>\n",
       "      <td>40.0</td>\n",
       "      <td>24.9</td>\n",
       "      <td>8.3</td>\n",
       "      <td>4.0</td>\n",
       "      <td>15.3</td>\n",
       "      <td>19.2</td>\n",
       "      <td>101.0</td>\n",
       "      <td>-87.770788</td>\n",
       "      <td>7</td>\n",
       "    </tr>\n",
       "  </tbody>\n",
       "</table>\n",
       "<p>5 rows × 137 columns</p>\n",
       "</div>"
      ],
      "text/plain": [
       "   Visitor-Points  Home-Points  Overtime  Age_Visitor  W_Visitor  L_Visitor  \\\n",
       "0              91           93         0         25.4         25         57   \n",
       "1             103          117         0         26.0         36         46   \n",
       "2              82          110         0         24.7         15         67   \n",
       "3             112          106         0         26.8         27         55   \n",
       "4             114          121         0         30.6         54         28   \n",
       "\n",
       "   PW_Visitor  PL_Visitor  MOV_Visitor  SOS_Visitor       ...        \\\n",
       "0          28          54        -4.46        -0.51       ...         \n",
       "1          35          47        -2.15         0.75       ...         \n",
       "2          20          62        -8.18        -0.23       ...         \n",
       "3          25          57        -6.29         0.96       ...         \n",
       "4          54          28         4.76        -0.61       ...         \n",
       "\n",
       "   T_DRB_Home  T_TRB_Home  T_AST_Home  T_STL_Home  T_BLK_Home  T_TOV_Home  \\\n",
       "0        32.4        42.0        21.0         7.7         4.3        14.9   \n",
       "1        31.7        43.0        19.1         8.4         4.6        15.3   \n",
       "2        34.0        43.3        25.2         7.4         5.1        14.4   \n",
       "3        31.1        42.5        21.2         7.0         4.2        14.1   \n",
       "4        31.3        40.0        24.9         8.3         4.0        15.3   \n",
       "\n",
       "   T_PF_Home  T_PTS_Home    elo_diff  score_gap_sign  \n",
       "0       20.5        96.5  -33.249042               2  \n",
       "1       21.9       105.2   34.878124              14  \n",
       "2       18.2       105.4  303.949571              28  \n",
       "3       23.0       101.3   88.639727              -6  \n",
       "4       19.2       101.0  -87.770788               7  \n",
       "\n",
       "[5 rows x 137 columns]"
      ]
     },
     "execution_count": 1,
     "metadata": {},
     "output_type": "execute_result"
    }
   ],
   "source": [
    "import pandas as pd\n",
    "from sklearn.preprocessing import StandardScaler\n",
    "\n",
    "df = pd.read_csv('final.csv')\n",
    "df.head()"
   ]
  },
  {
   "cell_type": "code",
   "execution_count": 2,
   "metadata": {},
   "outputs": [
    {
     "data": {
      "text/plain": [
       "(5967, 136)"
      ]
     },
     "execution_count": 2,
     "metadata": {},
     "output_type": "execute_result"
    }
   ],
   "source": [
    "x = df.loc[:,'Visitor-Points':'elo_diff'].values\n",
    "x.shape"
   ]
  },
  {
   "cell_type": "code",
   "execution_count": 3,
   "metadata": {},
   "outputs": [],
   "source": [
    "y = df.loc[:,['score_gap_sign']].values"
   ]
  },
  {
   "cell_type": "code",
   "execution_count": 4,
   "metadata": {},
   "outputs": [],
   "source": [
    "from sklearn.model_selection import train_test_split\n",
    "\n",
    "train_x, test_x, train_y, test_y = train_test_split(x, y, test_size=1/7.0, random_state=0)"
   ]
  },
  {
   "cell_type": "code",
   "execution_count": 5,
   "metadata": {},
   "outputs": [],
   "source": [
    "from sklearn.preprocessing import StandardScaler\n",
    "scaler = StandardScaler()\n",
    "scaler.fit(train_x)\n",
    "train_x = scaler.transform(train_x)\n",
    "test_x = scaler.transform(test_x)"
   ]
  },
  {
   "cell_type": "code",
   "execution_count": 6,
   "metadata": {},
   "outputs": [
    {
     "data": {
      "text/plain": [
       "PCA(copy=True, iterated_power='auto', n_components=0.9, random_state=None,\n",
       "  svd_solver='auto', tol=0.0, whiten=False)"
      ]
     },
     "execution_count": 6,
     "metadata": {},
     "output_type": "execute_result"
    }
   ],
   "source": [
    "from sklearn.decomposition import PCA\n",
    "\n",
    "pca = PCA(.90)\n",
    "pca.fit(train_x)"
   ]
  },
  {
   "cell_type": "code",
   "execution_count": 7,
   "metadata": {},
   "outputs": [],
   "source": [
    "train_x = pca.transform(train_x)\n",
    "test_x = pca.transform(test_x)"
   ]
  },
  {
   "cell_type": "code",
   "execution_count": 8,
   "metadata": {},
   "outputs": [],
   "source": [
    "import glob, os\n",
    "import pandas as pd\n",
    "import numpy as np\n",
    "from sklearn.linear_model import LinearRegression\n",
    "from sklearn.model_selection import train_test_split\n",
    "from sklearn.metrics import mean_squared_error"
   ]
  },
  {
   "cell_type": "code",
   "execution_count": 9,
   "metadata": {},
   "outputs": [
    {
     "data": {
      "text/plain": [
       "LinearRegression(copy_X=True, fit_intercept=True, n_jobs=1, normalize=False)"
      ]
     },
     "execution_count": 9,
     "metadata": {},
     "output_type": "execute_result"
    }
   ],
   "source": [
    "linreg = LinearRegression()\n",
    "linreg.fit(train_x, train_y)"
   ]
  },
  {
   "cell_type": "code",
   "execution_count": 10,
   "metadata": {},
   "outputs": [
    {
     "name": "stdout",
     "output_type": "stream",
     "text": [
      "12.14770259853811\n"
     ]
    }
   ],
   "source": [
    "pred = linreg.predict(test_x)\n",
    "error = np.sqrt(mean_squared_error(test_y, pred))\n",
    "print(error)"
   ]
  },
  {
   "cell_type": "code",
   "execution_count": 11,
   "metadata": {},
   "outputs": [],
   "source": [
    "from sklearn.ensemble import RandomForestRegressor"
   ]
  },
  {
   "cell_type": "code",
   "execution_count": 12,
   "metadata": {},
   "outputs": [],
   "source": [
    "df = pd.read_csv('final.csv')\n",
    "train_x, test_x, train_y, test_y = train_test_split(x, y, test_size=1/7.0, random_state=0)"
   ]
  },
  {
   "cell_type": "code",
   "execution_count": 13,
   "metadata": {},
   "outputs": [],
   "source": [
    "train_y = train_y.ravel()\n",
    "test_y = test_y.ravel()"
   ]
  },
  {
   "cell_type": "code",
   "execution_count": 14,
   "metadata": {},
   "outputs": [],
   "source": [
    "from sklearn.model_selection import GridSearchCV"
   ]
  },
  {
   "cell_type": "code",
   "execution_count": 15,
   "metadata": {},
   "outputs": [],
   "source": [
    "rfreg = RandomForestRegressor(n_estimators=100, max_depth=25, \n",
    "                              min_samples_split=2, min_samples_leaf=3, \n",
    "                              random_state=0)"
   ]
  },
  {
   "cell_type": "code",
   "execution_count": 16,
   "metadata": {},
   "outputs": [],
   "source": [
    "feature_range = list(range(10,31))\n",
    "param_grid = dict(max_features=feature_range)"
   ]
  },
  {
   "cell_type": "code",
   "execution_count": 17,
   "metadata": {},
   "outputs": [],
   "source": [
    "# grid = GridSearchCV(rfreg, param_grid, cv=10, return_train_score=False, n_jobs = -1)\n",
    "# grid.fit(train_x, train_y)"
   ]
  },
  {
   "cell_type": "code",
   "execution_count": 18,
   "metadata": {},
   "outputs": [],
   "source": [
    "# print(grid.best_score_)\n",
    "# print(grid.best_params_)\n",
    "# print(grid.best_estimator_)"
   ]
  },
  {
   "cell_type": "code",
   "execution_count": 19,
   "metadata": {},
   "outputs": [
    {
     "data": {
      "text/plain": [
       "RandomForestRegressor(bootstrap=True, criterion='mse', max_depth=None,\n",
       "           max_features=30, max_leaf_nodes=None, min_impurity_decrease=0.0,\n",
       "           min_impurity_split=None, min_samples_leaf=3,\n",
       "           min_samples_split=2, min_weight_fraction_leaf=0.0,\n",
       "           n_estimators=100, n_jobs=1, oob_score=False, random_state=0,\n",
       "           verbose=0, warm_start=False)"
      ]
     },
     "execution_count": 19,
     "metadata": {},
     "output_type": "execute_result"
    }
   ],
   "source": [
    "rfreg_best = RandomForestRegressor(n_estimators=100, max_features=30, \n",
    "                              min_samples_split=2, min_samples_leaf=3, \n",
    "                              random_state=0)\n",
    "rfreg_best.fit(train_x, train_y)"
   ]
  },
  {
   "cell_type": "code",
   "execution_count": 20,
   "metadata": {},
   "outputs": [
    {
     "name": "stdout",
     "output_type": "stream",
     "text": [
      "5.105786302864555\n"
     ]
    }
   ],
   "source": [
    "prediction_randomfroest = rfreg_best.predict(test_x)\n",
    "error = np.sqrt(mean_squared_error(test_y, prediction_randomfroest))\n",
    "print(error)"
   ]
  },
  {
   "cell_type": "code",
   "execution_count": 21,
   "metadata": {},
   "outputs": [
    {
     "name": "stderr",
     "output_type": "stream",
     "text": [
      "C:\\Users\\kai\\Anaconda3\\lib\\site-packages\\ipykernel_launcher.py:5: DataConversionWarning: A column-vector y was passed when a 1d array was expected. Please change the shape of y to (n_samples,), for example using ravel().\n",
      "  \"\"\"\n"
     ]
    },
    {
     "name": "stdout",
     "output_type": "stream",
     "text": [
      "[ 16.7525974   12.19489863  -2.63885043   3.88007576  -5.60109416\n",
      "  24.4348373   -9.1704311   10.1492248    1.95381097  14.36340188\n",
      "  -5.29306025   7.52021542  11.57726335  14.29997328   4.50739863\n",
      "   0.19487518   3.82797619  15.46152128   5.67303896  14.57872655\n",
      "   4.70152706   1.74054545 -21.58981602  10.5687417   -2.22991342\n",
      "  -1.37747439  -1.54567657  24.57331349  11.26032792  -2.4022543\n",
      "  -0.40251046  -5.90919048   3.97329113  10.00838131  -7.54973743\n",
      "  -4.73704593   1.26683874   4.52406313  -0.38425866   4.22034554\n",
      "   4.59889069  17.93452381  -0.51246465   9.23775722   6.90690723\n",
      "   6.09126617  12.66640657  -1.25656272   8.53558802  -2.93013831\n",
      "   6.05569766   5.90068984  -1.55722872 -10.09806349  12.75764863\n",
      "  -7.09493434  20.30384707  10.39793939  -8.58508442   4.92128968\n",
      " -14.48778139  10.10620455   5.77003427   2.74025419  -4.39133622\n",
      " -10.05900114  18.87146245  -4.85779263 -20.47500397   3.47788889\n",
      " -17.51579618   6.3947316    9.43442208  -7.72691667  -8.22155123\n",
      " -15.75925974  18.3663431    4.25396465  22.31314211  -6.94699062\n",
      "   2.90771068   4.59803874  -8.80644408  -9.40625902  19.6796342\n",
      "   7.30094481  -8.038134     4.31224206  -5.59924892  -4.43442244\n",
      "   8.71541414   0.87872186  13.73773665  18.43134127   5.59886436\n",
      "   7.51830464   6.34434199   7.48416017 -12.9149697    9.69704113\n",
      "   8.03645893 -10.35801299   9.63422638   3.3053547   -2.30816017\n",
      "   8.39593254   4.01920491   1.12232612  -9.07305447 -18.52416728]\n",
      "6.185860006497616\n"
     ]
    }
   ],
   "source": [
    "# out-of-sample prediction\n",
    "out_of_sample = pd.read_csv('Out_of_Sample.csv')\n",
    "X_out = out_of_sample.drop(['score_gap_sign'], axis = 1)\n",
    "y_out = out_of_sample['score_gap_sign']\n",
    "rfreg_best.fit(x,y)\n",
    "pred = rfreg_best.predict(X_out)\n",
    "error = np.sqrt(mean_squared_error(y_out, pred))\n",
    "print(pred)\n",
    "print(error)"
   ]
  },
  {
   "cell_type": "code",
   "execution_count": 23,
   "metadata": {},
   "outputs": [
    {
     "data": {
      "text/plain": [
       "<matplotlib.legend.Legend at 0x1aca9d15ef0>"
      ]
     },
     "execution_count": 23,
     "metadata": {},
     "output_type": "execute_result"
    },
    {
     "data": {
      "image/png": "[encoded data removed]",
      "text/plain": [
       "<Figure size 432x288 with 1 Axes>"
      ]
     },
     "metadata": {},
     "output_type": "display_data"
    }
   ],
   "source": [
    "# Visulization of prediction \n",
    "import matplotlib.pyplot as plt\n",
    "pred_list = list(pred)\n",
    "y_out_list = list(y_out)\n",
    "fig, ax = plt.subplots()\n",
    "plt.xlabel('games')\n",
    "plt.ylabel('actual score gap; predicted score gap')\n",
    "yticks = range(0,40,5)\n",
    "ax.set_yticks(yticks)\n",
    "ax.set_ylim([-40,40])\n",
    "x = list(range(len(out_of_sample)))\n",
    "plt.plot(x,pred_list,\"x-\",label=\"predicted score gap\")\n",
    "plt.plot(x,y_out_list,\"+-\",label=\"actual score gap\")\n",
    "plt.grid(True)\n",
    "plt.legend(bbox_to_anchor=(1.0, 1), loc=1, borderaxespad=0.)"
   ]
  }
 ],
 "metadata": {
  "kernelspec": {
   "display_name": "Python 3",
   "language": "python",
   "name": "python3"
  },
  "language_info": {
   "codemirror_mode": {
    "name": "ipython",
    "version": 3
   },
   "file_extension": ".py",
   "mimetype": "text/x-python",
   "name": "python",
   "nbconvert_exporter": "python",
   "pygments_lexer": "ipython3",
   "version": "3.6.5"
  }
 },
 "nbformat": 4,
 "nbformat_minor": 2
}
