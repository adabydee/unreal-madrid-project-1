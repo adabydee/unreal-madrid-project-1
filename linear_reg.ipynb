{
 "cells": [
  {
   "cell_type": "code",
   "execution_count": 10,
   "metadata": {},
   "outputs": [],
   "source": [
    "import glob, os\n",
    "import pandas as pd\n",
    "import numpy as np\n",
    "from sklearn.linear_model import LinearRegression\n",
    "from sklearn.model_selection import train_test_split\n",
    "from sklearn.metrics import mean_squared_error\n",
    "df_clean = pd.read_csv(\"fina1.csv\")"
   ]
  },
  {
   "cell_type": "code",
   "execution_count": 9,
   "metadata": {},
   "outputs": [],
   "source": [
    "df_clean = pd.read_csv(\"final.csv\")\n",
    "df_clean[\"Home-Points\"] = df_clean[\"Home-Points\"].apply(lambda x:np.sqrt(x)*6)\n",
    "df_clean.to_csv(\"fina1.csv\", index = False)"
   ]
  },
  {
   "cell_type": "code",
   "execution_count": 11,
   "metadata": {},
   "outputs": [],
   "source": [
    "X = df_clean.drop(['score_gap_sign'], axis = 1)\n",
    "y = df_clean['score_gap_sign']\n",
    "X_train, X_test, y_train, y_test = train_test_split(X, y, test_size = 0.3, random_state = 66)"
   ]
  },
  {
   "cell_type": "code",
   "execution_count": 12,
   "metadata": {},
   "outputs": [
    {
     "data": {
      "text/plain": [
       "LinearRegression(copy_X=True, fit_intercept=True, n_jobs=1, normalize=False)"
      ]
     },
     "execution_count": 12,
     "metadata": {},
     "output_type": "execute_result"
    }
   ],
   "source": [
    "linreg = LinearRegression()\n",
    "linreg.fit(X_train, y_train)"
   ]
  },
  {
   "cell_type": "code",
   "execution_count": 13,
   "metadata": {},
   "outputs": [
    {
     "name": "stdout",
     "output_type": "stream",
     "text": [
      "0.4789063492713966\n"
     ]
    }
   ],
   "source": [
    "pred = linreg.predict(X_test)\n",
    "error = np.sqrt(mean_squared_error(y_test, pred))\n",
    "print(error)"
   ]
  },
  {
   "cell_type": "code",
   "execution_count": 14,
   "metadata": {},
   "outputs": [
    {
     "name": "stdout",
     "output_type": "stream",
     "text": [
      "[-9.96816619e-01  3.38729212e+00  1.75562629e-01 -9.91797137e-03\n",
      "  4.48409371e-03 -4.48409347e-03 -7.61758613e-03  7.61758613e-03\n",
      "  3.67298081e-01  1.34676026e+00 -1.33590711e+00  2.14528952e-01\n",
      " -4.93148105e-01 -3.56029408e-01  7.11219851e+00 -8.88948404e+00\n",
      "  8.03883441e+00 -3.95942734e+01 -3.18686125e-01  9.44032268e-02\n",
      "  3.50689480e+00 -3.03157025e+01 -1.01010001e-01 -1.66084058e-01\n",
      " -1.38504521e+00 -1.47599590e-03 -1.34632155e-03  1.34632156e-03\n",
      " -4.70824519e-03  4.70824515e-03 -1.73036101e+00 -2.15345377e+00\n",
      "  2.14254422e+00 -2.08192908e-01 -9.46498541e-02 -3.00577159e-01\n",
      "  5.75135817e+00  2.41790120e+00 -2.22399986e+01  1.25634938e+01\n",
      "  5.54329386e-02  4.26803684e-02 -8.52601862e+00 -1.95674960e+01\n",
      " -2.03493635e-01  2.62452524e-01 -7.38231594e-01 -7.04450908e-02\n",
      " -3.02633057e-01 -4.25231566e-01 -1.54980111e+01  4.03322945e-01\n",
      "  1.41758689e-01 -1.93410881e+00  2.85925627e-01  2.18239497e-01\n",
      "  1.65474199e+00  1.32105797e-01 -2.40549662e-01 -9.54565220e+00\n",
      " -4.35311362e-02  3.75522497e-01 -2.96747517e-01  1.09796960e-03\n",
      "  3.91561724e-02 -1.54379181e-02  9.53004676e-02  1.45419082e-02\n",
      " -2.28379226e-01 -5.49911693e-02 -4.90761523e-02 -3.89491658e-01\n",
      "  1.69392800e+00 -3.12124153e-02  3.01039928e-01  5.60425542e+00\n",
      "  3.69053623e-01  1.09358659e-01 -1.14576067e+01 -6.58199838e-02\n",
      " -8.74237568e-03  1.26363885e-01 -1.22586654e-01 -5.99614820e-01\n",
      "  6.18089470e-01  9.46730137e-03 -6.47340008e-02 -2.43592625e-02\n",
      "  1.16124048e-01  2.50381530e-02  5.38698406e-01 -7.04450908e-02\n",
      " -2.74128258e-02  1.44331940e-01  4.17880150e+01  3.68586028e-01\n",
      " -3.53828672e-02  2.65907859e+00  2.79979531e-02 -1.11175477e-01\n",
      "  6.83225000e+00  1.06534629e-01 -1.59001776e-01 -1.86343870e+00\n",
      " -1.45683722e-01  2.68749680e-02  3.94642565e-02 -4.14829597e-03\n",
      "  4.80749266e-02 -3.03223296e-03  2.21530414e-01 -2.71360414e-02\n",
      "  6.65937164e-01 -5.49911693e-02 -4.49198659e-01  2.44959702e-01\n",
      " -1.96977737e+01 -1.09387117e-02 -4.52735303e-01 -4.03059106e+00\n",
      " -1.35635278e-01 -2.45840992e-01  1.52652362e+01 -6.12502856e-02\n",
      " -1.61894062e-01 -4.28120726e-01 -2.11682661e-01 -2.62801517e-01\n",
      "  1.15626373e-01  3.35126535e-03  8.13040607e-03  4.60042121e-02\n",
      "  5.90584630e-03 -5.80570158e-03  1.49042048e-01  3.61562529e-04]\n"
     ]
    }
   ],
   "source": [
    "print(linreg.coef_)"
   ]
  },
  {
   "cell_type": "code",
   "execution_count": 15,
   "metadata": {},
   "outputs": [],
   "source": [
    "out_of_sample = pd.read_csv('Out_of_Sample.csv')\n",
    "out_of_sample = out_of_sample.drop(['Visitor-Points', 'Home-Points'], 1)\n",
    "X = X.drop(['Visitor-Points', 'Home-Points'], 1)"
   ]
  },
  {
   "cell_type": "code",
   "execution_count": 16,
   "metadata": {},
   "outputs": [
    {
     "name": "stdout",
     "output_type": "stream",
     "text": [
      "[ 4.36044817e+00  2.20826252e+01 -4.52961457e+00 -5.32154548e+00\n",
      " -1.38928760e+01  1.80063134e+01 -2.28286415e+00  1.72029857e+00\n",
      " -1.34222999e+01 -9.39860531e+00 -7.04605486e+00  2.63887409e+00\n",
      "  1.90218329e+01  9.85870022e+00 -2.63845865e-01 -1.63678796e+01\n",
      " -3.15572786e+00  2.16473577e+00  9.81621452e+00  7.91847215e+00\n",
      " -7.11302802e+00  1.49088040e+01 -1.53058263e+01  9.48845900e+00\n",
      " -1.09402674e+01 -4.00417209e+00 -2.70366562e+01  3.23456543e+01\n",
      "  1.56187704e+01  8.72574114e-01 -2.71274769e+00 -1.52355008e+01\n",
      "  8.62741199e+00  5.82849738e-01 -3.59768748e+01 -4.11002250e+00\n",
      "  2.46537816e-02  3.68544271e+00  6.20053748e+00  1.35364126e+01\n",
      " -1.53056137e+01  4.26731113e+01 -2.76620065e+00  2.90193222e+01\n",
      " -2.32512773e+01  4.79302231e+00  1.50679452e+01  8.93144039e+00\n",
      "  1.97953581e+01 -1.42181306e+01  6.15731419e+00 -9.18822344e+00\n",
      " -1.17207566e+01 -1.27465162e+01  2.75839344e+01 -1.42367767e+01\n",
      "  7.30957722e+00  1.54420562e+01 -3.00241745e+01  5.93585558e+00\n",
      " -5.75629606e+00  1.13873427e+01 -1.84860586e+00 -3.51873394e+00\n",
      " -2.99956761e+00 -2.12366672e+01  1.10525015e+01 -1.20876323e+01\n",
      " -2.17624379e+01  1.34615981e+01 -2.63372856e+01  4.02212046e+00\n",
      "  3.01288265e+01 -1.75340246e+01 -2.79753540e+01 -1.31651643e+01\n",
      "  1.65506408e+01 -7.49974926e+00  2.57272289e+01  2.77170644e+00\n",
      "  3.22460768e+00  1.15709338e+00 -2.78448741e+01 -3.14513095e+01\n",
      "  9.07566772e+00  1.99541296e+01 -2.81086841e+01  8.21738404e+00\n",
      "  6.31540552e+00  3.19796262e-01  2.83169930e+00 -1.70240191e+01\n",
      " -6.73590614e+00  1.39488304e+01  2.01152597e+01  1.71019896e+01\n",
      "  6.00904908e+00 -4.36655494e+00 -1.38336617e+01  2.56002685e+00\n",
      " -2.33784093e+00 -1.32902191e+01  1.05669191e+01 -4.76175999e+00\n",
      " -2.16034796e+01  1.86683462e+01  1.92313667e+01 -1.93877197e+01\n",
      " -2.20145874e+01 -3.06783324e+01]\n",
      "13.597766049903226\n"
     ]
    }
   ],
   "source": [
    "# out-of-sample prediction\n",
    "X_out = out_of_sample.drop(['score_gap_sign'], axis = 1)\n",
    "y_out = out_of_sample['score_gap_sign']\n",
    "linreg.fit(X,y)\n",
    "pred = linreg.predict(X_out)\n",
    "error = np.sqrt(mean_squared_error(y_out, pred))\n",
    "print(pred)\n",
    "print(error)"
   ]
  }
 ],
 "metadata": {
  "kernelspec": {
   "display_name": "Python 3",
   "language": "python",
   "name": "python3"
  },
  "language_info": {
   "codemirror_mode": {
    "name": "ipython",
    "version": 3
   },
   "file_extension": ".py",
   "mimetype": "text/x-python",
   "name": "python",
   "nbconvert_exporter": "python",
   "pygments_lexer": "ipython3",
   "version": "3.6.5"
  }
 },
 "nbformat": 4,
 "nbformat_minor": 2
}
