{
 "cells": [
  {
   "cell_type": "code",
   "execution_count": 1,
   "metadata": {},
   "outputs": [],
   "source": [
    "import pandas as pd\n",
    "from sklearn.preprocessing import StandardScaler\n",
    "\n",
    "df = pd.read_csv('final.csv')\n",
    "out_of_sample = pd.read_csv('Out_of_Sample.csv')"
   ]
  },
  {
   "cell_type": "code",
   "execution_count": 2,
   "metadata": {},
   "outputs": [
    {
     "data": {
      "text/plain": [
       "(5967, 136)"
      ]
     },
     "execution_count": 2,
     "metadata": {},
     "output_type": "execute_result"
    }
   ],
   "source": [
    "x = df.loc[:,'Visitor-Points':'elo_diff'].values\n",
    "x.shape"
   ]
  },
  {
   "cell_type": "code",
   "execution_count": 3,
   "metadata": {},
   "outputs": [],
   "source": [
    "y = df.loc[:,['score_gap_sign']].values"
   ]
  },
  {
   "cell_type": "code",
   "execution_count": 4,
   "metadata": {},
   "outputs": [],
   "source": [
    "from sklearn.model_selection import train_test_split\n",
    "\n",
    "train_x, test_x, train_y, test_y = train_test_split(x, y, test_size=1/7.0, random_state=0)"
   ]
  },
  {
   "cell_type": "code",
   "execution_count": 5,
   "metadata": {},
   "outputs": [],
   "source": [
    "from sklearn.preprocessing import StandardScaler\n",
    "scaler = StandardScaler()\n",
    "scaler.fit(train_x)\n",
    "train_x = scaler.transform(train_x)\n",
    "test_x = scaler.transform(test_x)"
   ]
  },
  {
   "cell_type": "code",
   "execution_count": 6,
   "metadata": {},
   "outputs": [],
   "source": [
    "train_y = train_y.ravel()"
   ]
  },
  {
   "cell_type": "code",
   "execution_count": null,
   "metadata": {},
   "outputs": [],
   "source": [
    "from sklearn import svm\n",
    "from sklearn.model_selection import GridSearchCV\n",
    "\n",
    "def svc_param_selection(X, y, nfolds):\n",
    "    Cs = [0.001, 0.01, 0.1, 1, 10]\n",
    "    gammas = [0.001, 0.01, 0.1, 1]\n",
    "    param_grid = {'C': Cs, 'gamma' : gammas}\n",
    "    grid_search = GridSearchCV(svm.SVR(kernel='rbf'), param_grid, cv=nfolds)\n",
    "    grid_search.fit(X, y)\n",
    "    grid_search.best_params_\n",
    "    return grid_search.best_params_\n",
    "\n",
    "svc_param_selection(train_x, train_y, 5)"
   ]
  },
  {
   "cell_type": "code",
   "execution_count": 7,
   "metadata": {},
   "outputs": [
    {
     "data": {
      "text/plain": [
       "SVR(C=10, cache_size=200, coef0=0.0, degree=3, epsilon=0.1, gamma=0.001,\n",
       "  kernel='rbf', max_iter=-1, shrinking=True, tol=0.001, verbose=False)"
      ]
     },
     "execution_count": 7,
     "metadata": {},
     "output_type": "execute_result"
    }
   ],
   "source": [
    "from sklearn.svm import SVR\n",
    "svregress = SVR(kernel='rbf', C=10, gamma=0.001)\n",
    "svregress.fit(train_x, train_y)  "
   ]
  },
  {
   "cell_type": "code",
   "execution_count": 8,
   "metadata": {},
   "outputs": [],
   "source": [
    "pred = svregress.predict(test_x)"
   ]
  },
  {
   "cell_type": "code",
   "execution_count": 9,
   "metadata": {
    "scrolled": true
   },
   "outputs": [
    {
     "name": "stdout",
     "output_type": "stream",
     "text": [
      "0.678968397375182\n"
     ]
    }
   ],
   "source": [
    "import numpy as np\n",
    "from sklearn.metrics import mean_squared_error\n",
    "\n",
    "error = np.sqrt(mean_squared_error(test_y, pred))\n",
    "print(error)"
   ]
  },
  {
   "cell_type": "code",
   "execution_count": 10,
   "metadata": {},
   "outputs": [
    {
     "data": {
      "text/plain": [
       "(110, 137)"
      ]
     },
     "execution_count": 10,
     "metadata": {},
     "output_type": "execute_result"
    }
   ],
   "source": [
    "xo = df.loc[:,'Visitor-Points':'elo_diff'].values\n",
    "xo.shape"
   ]
  },
  {
   "cell_type": "code",
   "execution_count": 11,
   "metadata": {},
   "outputs": [],
   "source": [
    "yo = df.loc[:,['score_gap_sign']].values"
   ]
  },
  {
   "cell_type": "code",
   "execution_count": 14,
   "metadata": {},
   "outputs": [],
   "source": [
    "from sklearn.preprocessing import StandardScaler\n",
    "scalero = StandardScaler()\n",
    "scalero.fit(xo)\n",
    "xo = scalero.transform(xo)"
   ]
  },
  {
   "cell_type": "code",
   "execution_count": 15,
   "metadata": {},
   "outputs": [],
   "source": [
    "train_yo = train_yo.ravel()"
   ]
  },
  {
   "cell_type": "code",
   "execution_count": 16,
   "metadata": {},
   "outputs": [
    {
     "data": {
      "text/plain": [
       "SVR(C=10, cache_size=200, coef0=0.0, degree=3, epsilon=0.1, gamma=0.001,\n",
       "  kernel='rbf', max_iter=-1, shrinking=True, tol=0.001, verbose=False)"
      ]
     },
     "execution_count": 16,
     "metadata": {},
     "output_type": "execute_result"
    }
   ],
   "source": [
    "from sklearn.svm import SVR\n",
    "svregresso = SVR(kernel='rbf', C=10, gamma=0.001)\n",
    "svregresso.fit(train_xo, train_yo)  "
   ]
  },
  {
   "cell_type": "code",
   "execution_count": 22,
   "metadata": {},
   "outputs": [
    {
     "name": "stdout",
     "output_type": "stream",
     "text": [
      "[ 6.92636512  2.66310486 -3.65933108  2.69920005 -1.75694239 -3.77088164\n",
      " -9.31370721  8.03052823  1.36883002  2.83232029 -3.6228665  -8.74359738\n",
      " 12.34498583  0.07237138 13.17634712 -1.68574984]\n"
     ]
    }
   ],
   "source": [
    "predo = svregresso.predict(test_xo)\n",
    "print(predo)"
   ]
  },
  {
   "cell_type": "code",
   "execution_count": 19,
   "metadata": {},
   "outputs": [
    {
     "name": "stdout",
     "output_type": "stream",
     "text": [
      "13.267971528509499\n"
     ]
    }
   ],
   "source": [
    "import numpy as np\n",
    "from sklearn.metrics import mean_squared_error\n",
    "\n",
    "erroro = np.sqrt(mean_squared_error(test_yo, predo))\n",
    "print(erroro)"
   ]
  },
  {
   "cell_type": "code",
   "execution_count": 20,
   "metadata": {},
   "outputs": [
    {
     "name": "stderr",
     "output_type": "stream",
     "text": [
      "/anaconda3/lib/python3.6/site-packages/sklearn/utils/validation.py:578: DataConversionWarning: A column-vector y was passed when a 1d array was expected. Please change the shape of y to (n_samples, ), for example using ravel().\n",
      "  y = column_or_1d(y, warn=True)\n"
     ]
    },
    {
     "name": "stdout",
     "output_type": "stream",
     "text": [
      "14.153932628295571\n"
     ]
    }
   ],
   "source": [
    "# out-of-sample prediction\n",
    "X_out = out_of_sample.drop(['score_gap_sign'], axis = 1)\n",
    "y_out = out_of_sample['score_gap_sign']\n",
    "scaler = StandardScaler()\n",
    "scaler.fit(X_out)\n",
    "X_out = scaler.transform(X_out)\n",
    "svregress = SVR(kernel='rbf', C=10, gamma=0.001)\n",
    "svregress.fit(x,y)\n",
    "pred = svregress.predict(X_out)\n",
    "error = np.sqrt(mean_squared_error(y_out, pred))\n",
    "print(error)"
   ]
  },
  {
   "cell_type": "code",
   "execution_count": 21,
   "metadata": {},
   "outputs": [
    {
     "name": "stdout",
     "output_type": "stream",
     "text": [
      "[2.53876777 2.53876777 2.53876777 2.53876777 2.53876777 2.53876777\n",
      " 2.53876777 2.53876777 2.53876777 2.53876777 2.53876777 2.53876777\n",
      " 2.53876777 2.53876777 2.53876777 2.53876777 2.53876777 2.53876777\n",
      " 2.53876777 2.53876777 2.53876777 2.53876777 2.53876777 2.53876777\n",
      " 2.53876777 2.53876777 2.53876777 2.53876777 2.53876777 2.53876777\n",
      " 2.53876777 2.53876777 2.53876777 2.53876777 2.53876777 2.53876777\n",
      " 2.53876777 2.53876777 2.53876777 2.53876777 2.53876777 2.53876777\n",
      " 2.53876777 2.53876777 2.53876777 2.53876777 2.53876777 2.53876777\n",
      " 2.53876777 2.53876777 2.53876777 2.53876777 2.53876777 2.53876777\n",
      " 2.53876777 2.53876777 2.53876777 2.53876777 2.53876777 2.53876777\n",
      " 2.53876777 2.53876777 2.53876777 2.53876777 2.53876777 2.53876777\n",
      " 2.53876777 2.53876777 2.53876777 2.53876777 2.53876777 2.53876777\n",
      " 2.53876777 2.53876777 2.53876777 2.53876777 2.53876777 2.53876777\n",
      " 2.53876777 2.53876777 2.53876777 2.53876777 2.53876777 2.53876777\n",
      " 2.53876777 2.53876777 2.53876777 2.53876777 2.53876777 2.53876777\n",
      " 2.53876777 2.53876777 2.53876777 2.53876777 2.53876777 2.53876777\n",
      " 2.53876777 2.53876777 2.53876777 2.53876777 2.53876777 2.53876777\n",
      " 2.53876777 2.53876777 2.53876777 2.53876777 2.53876777 2.53876777\n",
      " 2.53876777 2.53876777]\n"
     ]
    }
   ],
   "source": [
    "print(pred)"
   ]
  },
  {
   "cell_type": "code",
   "execution_count": null,
   "metadata": {},
   "outputs": [],
   "source": [
    "# Visulization of prediction \n",
    "import matplotlib.pyplot as plt\n",
    "pred_list = list(pred)\n",
    "y_out_list = list(y_out)\n",
    "fig, ax = plt.subplots()\n",
    "plt.xlabel('games')\n",
    "plt.ylabel('actual score gap; predicted score gap')\n",
    "yticks = range(-40,40,5)\n",
    "ax.set_yticks(yticks)\n",
    "ax.set_ylim([-40,40])\n",
    "x = list(range(len(out_of_sample)))\n",
    "plt.plot(x,pred_list,\"x-\",label=\"predicted score gap\")\n",
    "plt.plot(x,y_out_list,\"+-\",label=\"actual score gap\")\n",
    "plt.grid(True)\n",
    "plt.legend(bbox_to_anchor=(1.0, 1), loc=1, borderaxespad=0.)\n"
   ]
  }
 ],
 "metadata": {
  "kernelspec": {
   "display_name": "Python 3",
   "language": "python",
   "name": "python3"
  },
  "language_info": {
   "codemirror_mode": {
    "name": "ipython",
    "version": 3
   },
   "file_extension": ".py",
   "mimetype": "text/x-python",
   "name": "python",
   "nbconvert_exporter": "python",
   "pygments_lexer": "ipython3",
   "version": "3.6.5"
  }
 },
 "nbformat": 4,
 "nbformat_minor": 2
}
